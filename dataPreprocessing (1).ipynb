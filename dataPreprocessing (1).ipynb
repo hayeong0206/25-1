{
  "cells": [
    {
      "cell_type": "markdown",
      "id": "260d1e12",
      "metadata": {
        "id": "260d1e12"
      },
      "source": [
        "# 데이터 구조 및 전처리 코드"
      ]
    },
    {
      "cell_type": "markdown",
      "id": "ba0de584",
      "metadata": {
        "id": "ba0de584"
      },
      "source": [
        "## 1. 데이터 구조 파악\n",
        "- train.csv: 22,200행 × 49열 (id + 46개의 입력 변수 + shares + y)\n",
        "- test.csv: 9,515행 × 47열 (id + 46개의 입력 변수)\n",
        "- target(y): 0과 1이 거의 균형"
      ]
    },
    {
      "cell_type": "markdown",
      "id": "d28677a6",
      "metadata": {
        "id": "d28677a6"
      },
      "source": [
        "## 2. 결측치 비율 확인\n",
        "- 모든 변수에 약 10% 내외의 결측치 존재"
      ]
    },
    {
      "cell_type": "markdown",
      "id": "4330314e",
      "metadata": {
        "id": "4330314e"
      },
      "source": [
        "## 3. 변수 유형\n",
        "특성변수\n",
        "- 수치형 변수: 대부분 float64\n",
        "- 범주형 변수: `data_channel`, `weekday` (object)\n",
        "\n",
        "목표변수\n",
        "-수치형 변수 : 'shares', int64\n",
        "-범주형 변수 : 'y', int64 (0,1로 이루어진 이진범주형 변수)"
      ]
    },
    {
      "cell_type": "markdown",
      "id": "80bb8ebc",
      "metadata": {
        "id": "80bb8ebc"
      },
      "source": [
        "## 4. 전처리 방법\n",
        "- 수치형 변수: 평균 대체 후 StandardScaler로 정규화\n",
        "- 범주형 변수: 최빈값 대체 후 OneHotEncoder 인코딩\n",
        "- 전처리 후 feature 수: 57개 (train: (22200, 57), test: (9515, 57))"
      ]
    },
    {
      "cell_type": "code",
      "source": [
        "from google.colab import drive\n",
        "drive.mount(\"/content/gdrive\")"
      ],
      "metadata": {
        "colab": {
          "base_uri": "https://localhost:8080/"
        },
        "id": "PA1zsQ8i6LRv",
        "outputId": "412f38de-90cd-4c03-d46e-0220e77a08a0"
      },
      "id": "PA1zsQ8i6LRv",
      "execution_count": null,
      "outputs": [
        {
          "output_type": "stream",
          "name": "stdout",
          "text": [
            "Mounted at /content/gdrive\n"
          ]
        }
      ]
    },
    {
      "cell_type": "code",
      "source": [
        "import os\n",
        "root_dir=\"/content/gdrive/MyDrive/CSE/Colab Notebooks/2025 spring/project\"\n",
        "#각자 자료 저장한 루트로 수정\n",
        "os.path.exists(root_dir)"
      ],
      "metadata": {
        "colab": {
          "base_uri": "https://localhost:8080/"
        },
        "id": "sMGuU3tf6y0O",
        "outputId": "019fd295-cd0f-4ff8-8b43-7d75b8c78df7"
      },
      "id": "sMGuU3tf6y0O",
      "execution_count": null,
      "outputs": [
        {
          "output_type": "execute_result",
          "data": {
            "text/plain": [
              "True"
            ]
          },
          "metadata": {},
          "execution_count": 6
        }
      ]
    },
    {
      "cell_type": "code",
      "execution_count": null,
      "id": "35f35005",
      "metadata": {
        "colab": {
          "base_uri": "https://localhost:8080/"
        },
        "id": "35f35005",
        "outputId": "d06b2327-1355-4f58-eba5-3c3cdee42587"
      },
      "outputs": [
        {
          "output_type": "stream",
          "name": "stdout",
          "text": [
            "(22200, 49)\n",
            "(9515, 47)\n",
            "<class 'pandas.core.frame.DataFrame'>\n",
            "RangeIndex: 22200 entries, 0 to 22199\n",
            "Data columns (total 49 columns):\n",
            " #   Column                        Non-Null Count  Dtype  \n",
            "---  ------                        --------------  -----  \n",
            " 0   id                            22200 non-null  int64  \n",
            " 1   n_tokens_title                20000 non-null  float64\n",
            " 2   n_tokens_content              20054 non-null  float64\n",
            " 3   n_unique_tokens               19942 non-null  float64\n",
            " 4   n_non_stop_words              20017 non-null  float64\n",
            " 5   n_non_stop_unique_tokens      19944 non-null  float64\n",
            " 6   num_hrefs                     19967 non-null  float64\n",
            " 7   num_self_hrefs                19920 non-null  float64\n",
            " 8   num_imgs                      19986 non-null  float64\n",
            " 9   num_videos                    19906 non-null  float64\n",
            " 10  average_token_length          19987 non-null  float64\n",
            " 11  num_keywords                  19955 non-null  float64\n",
            " 12  kw_min_min                    19984 non-null  float64\n",
            " 13  kw_max_min                    20021 non-null  float64\n",
            " 14  kw_avg_min                    19971 non-null  float64\n",
            " 15  kw_min_max                    19985 non-null  float64\n",
            " 16  kw_max_max                    19968 non-null  float64\n",
            " 17  kw_avg_max                    20040 non-null  float64\n",
            " 18  kw_min_avg                    20049 non-null  float64\n",
            " 19  kw_max_avg                    20018 non-null  float64\n",
            " 20  kw_avg_avg                    20023 non-null  float64\n",
            " 21  self_reference_min_shares     19994 non-null  float64\n",
            " 22  self_reference_max_shares     20026 non-null  float64\n",
            " 23  self_reference_avg_sharess    19954 non-null  float64\n",
            " 24  LDA_00                        19976 non-null  float64\n",
            " 25  LDA_01                        19998 non-null  float64\n",
            " 26  LDA_02                        20047 non-null  float64\n",
            " 27  LDA_03                        19957 non-null  float64\n",
            " 28  LDA_04                        20013 non-null  float64\n",
            " 29  global_subjectivity           19946 non-null  float64\n",
            " 30  global_sentiment_polarity     19969 non-null  float64\n",
            " 31  global_rate_positive_words    19966 non-null  float64\n",
            " 32  global_rate_negative_words    19951 non-null  float64\n",
            " 33  rate_positive_words           19981 non-null  float64\n",
            " 34  rate_negative_words           19958 non-null  float64\n",
            " 35  avg_positive_polarity         20050 non-null  float64\n",
            " 36  min_positive_polarity         19958 non-null  float64\n",
            " 37  max_positive_polarity         20033 non-null  float64\n",
            " 38  avg_negative_polarity         19916 non-null  float64\n",
            " 39  min_negative_polarity         19926 non-null  float64\n",
            " 40  max_negative_polarity         19997 non-null  float64\n",
            " 41  title_subjectivity            19928 non-null  float64\n",
            " 42  title_sentiment_polarity      19967 non-null  float64\n",
            " 43  abs_title_subjectivity        19934 non-null  float64\n",
            " 44  abs_title_sentiment_polarity  19951 non-null  float64\n",
            " 45  data_channel                  20053 non-null  object \n",
            " 46  weekday                       20087 non-null  object \n",
            " 47  shares                        22200 non-null  int64  \n",
            " 48  y                             22200 non-null  int64  \n",
            "dtypes: float64(44), int64(3), object(2)\n",
            "memory usage: 8.3+ MB\n",
            "y\n",
            "0    0.504324\n",
            "1    0.495676\n",
            "Name: proportion, dtype: float64\n"
          ]
        }
      ],
      "source": [
        "import pandas as pd\n",
        "\n",
        "data_path_train=os.path.join(root_dir,\"train.csv\")\n",
        "data_path_test=os.path.join(root_dir,\"test.csv\")\n",
        "\n",
        "train_df = pd.read_csv(data_path_train)\n",
        "test_df = pd.read_csv(data_path_test)\n",
        "\n",
        "print(train_df.shape)\n",
        "print(test_df.shape)\n",
        "train_df.info()\n",
        "print(train_df['y'].value_counts(normalize=True))"
      ]
    },
    {
      "cell_type": "code",
      "source": [],
      "metadata": {
        "id": "SHm5SQdU--pD"
      },
      "id": "SHm5SQdU--pD",
      "execution_count": null,
      "outputs": []
    },
    {
      "cell_type": "code",
      "execution_count": null,
      "id": "5259e014",
      "metadata": {
        "colab": {
          "base_uri": "https://localhost:8080/",
          "height": 1000
        },
        "id": "5259e014",
        "outputId": "5501bcd6-9af9-4334-ad82-307ebdd5d697"
      },
      "outputs": [
        {
          "output_type": "execute_result",
          "data": {
            "text/plain": [
              "num_videos                      0.103333\n",
              "avg_negative_polarity           0.102883\n",
              "num_self_hrefs                  0.102703\n",
              "min_negative_polarity           0.102432\n",
              "title_subjectivity              0.102342\n",
              "abs_title_subjectivity          0.102072\n",
              "n_unique_tokens                 0.101712\n",
              "n_non_stop_unique_tokens        0.101622\n",
              "global_subjectivity             0.101532\n",
              "global_rate_negative_words      0.101306\n",
              "abs_title_sentiment_polarity    0.101306\n",
              "self_reference_avg_sharess      0.101171\n",
              "num_keywords                    0.101126\n",
              "LDA_03                          0.101036\n",
              "rate_negative_words             0.100991\n",
              "min_positive_polarity           0.100991\n",
              "global_rate_positive_words      0.100631\n",
              "title_sentiment_polarity        0.100586\n",
              "num_hrefs                       0.100586\n",
              "kw_max_max                      0.100541\n",
              "global_sentiment_polarity       0.100495\n",
              "kw_avg_min                      0.100405\n",
              "LDA_00                          0.100180\n",
              "rate_positive_words             0.099955\n",
              "kw_min_min                      0.099820\n",
              "kw_min_max                      0.099775\n",
              "num_imgs                        0.099730\n",
              "average_token_length            0.099685\n",
              "self_reference_min_shares       0.099369\n",
              "max_negative_polarity           0.099234\n",
              "LDA_01                          0.099189\n",
              "n_tokens_title                  0.099099\n",
              "LDA_04                          0.098514\n",
              "n_non_stop_words                0.098333\n",
              "kw_max_avg                      0.098288\n",
              "kw_max_min                      0.098153\n",
              "kw_avg_avg                      0.098063\n",
              "self_reference_max_shares       0.097928\n",
              "max_positive_polarity           0.097613\n",
              "kw_avg_max                      0.097297\n",
              "LDA_02                          0.096982\n",
              "kw_min_avg                      0.096892\n",
              "avg_positive_polarity           0.096847\n",
              "data_channel                    0.096712\n",
              "n_tokens_content                0.096667\n",
              "weekday                         0.095180\n",
              "dtype: float64"
            ],
            "text/html": [
              "<div>\n",
              "<style scoped>\n",
              "    .dataframe tbody tr th:only-of-type {\n",
              "        vertical-align: middle;\n",
              "    }\n",
              "\n",
              "    .dataframe tbody tr th {\n",
              "        vertical-align: top;\n",
              "    }\n",
              "\n",
              "    .dataframe thead th {\n",
              "        text-align: right;\n",
              "    }\n",
              "</style>\n",
              "<table border=\"1\" class=\"dataframe\">\n",
              "  <thead>\n",
              "    <tr style=\"text-align: right;\">\n",
              "      <th></th>\n",
              "      <th>0</th>\n",
              "    </tr>\n",
              "  </thead>\n",
              "  <tbody>\n",
              "    <tr>\n",
              "      <th>num_videos</th>\n",
              "      <td>0.103333</td>\n",
              "    </tr>\n",
              "    <tr>\n",
              "      <th>avg_negative_polarity</th>\n",
              "      <td>0.102883</td>\n",
              "    </tr>\n",
              "    <tr>\n",
              "      <th>num_self_hrefs</th>\n",
              "      <td>0.102703</td>\n",
              "    </tr>\n",
              "    <tr>\n",
              "      <th>min_negative_polarity</th>\n",
              "      <td>0.102432</td>\n",
              "    </tr>\n",
              "    <tr>\n",
              "      <th>title_subjectivity</th>\n",
              "      <td>0.102342</td>\n",
              "    </tr>\n",
              "    <tr>\n",
              "      <th>abs_title_subjectivity</th>\n",
              "      <td>0.102072</td>\n",
              "    </tr>\n",
              "    <tr>\n",
              "      <th>n_unique_tokens</th>\n",
              "      <td>0.101712</td>\n",
              "    </tr>\n",
              "    <tr>\n",
              "      <th>n_non_stop_unique_tokens</th>\n",
              "      <td>0.101622</td>\n",
              "    </tr>\n",
              "    <tr>\n",
              "      <th>global_subjectivity</th>\n",
              "      <td>0.101532</td>\n",
              "    </tr>\n",
              "    <tr>\n",
              "      <th>global_rate_negative_words</th>\n",
              "      <td>0.101306</td>\n",
              "    </tr>\n",
              "    <tr>\n",
              "      <th>abs_title_sentiment_polarity</th>\n",
              "      <td>0.101306</td>\n",
              "    </tr>\n",
              "    <tr>\n",
              "      <th>self_reference_avg_sharess</th>\n",
              "      <td>0.101171</td>\n",
              "    </tr>\n",
              "    <tr>\n",
              "      <th>num_keywords</th>\n",
              "      <td>0.101126</td>\n",
              "    </tr>\n",
              "    <tr>\n",
              "      <th>LDA_03</th>\n",
              "      <td>0.101036</td>\n",
              "    </tr>\n",
              "    <tr>\n",
              "      <th>rate_negative_words</th>\n",
              "      <td>0.100991</td>\n",
              "    </tr>\n",
              "    <tr>\n",
              "      <th>min_positive_polarity</th>\n",
              "      <td>0.100991</td>\n",
              "    </tr>\n",
              "    <tr>\n",
              "      <th>global_rate_positive_words</th>\n",
              "      <td>0.100631</td>\n",
              "    </tr>\n",
              "    <tr>\n",
              "      <th>title_sentiment_polarity</th>\n",
              "      <td>0.100586</td>\n",
              "    </tr>\n",
              "    <tr>\n",
              "      <th>num_hrefs</th>\n",
              "      <td>0.100586</td>\n",
              "    </tr>\n",
              "    <tr>\n",
              "      <th>kw_max_max</th>\n",
              "      <td>0.100541</td>\n",
              "    </tr>\n",
              "    <tr>\n",
              "      <th>global_sentiment_polarity</th>\n",
              "      <td>0.100495</td>\n",
              "    </tr>\n",
              "    <tr>\n",
              "      <th>kw_avg_min</th>\n",
              "      <td>0.100405</td>\n",
              "    </tr>\n",
              "    <tr>\n",
              "      <th>LDA_00</th>\n",
              "      <td>0.100180</td>\n",
              "    </tr>\n",
              "    <tr>\n",
              "      <th>rate_positive_words</th>\n",
              "      <td>0.099955</td>\n",
              "    </tr>\n",
              "    <tr>\n",
              "      <th>kw_min_min</th>\n",
              "      <td>0.099820</td>\n",
              "    </tr>\n",
              "    <tr>\n",
              "      <th>kw_min_max</th>\n",
              "      <td>0.099775</td>\n",
              "    </tr>\n",
              "    <tr>\n",
              "      <th>num_imgs</th>\n",
              "      <td>0.099730</td>\n",
              "    </tr>\n",
              "    <tr>\n",
              "      <th>average_token_length</th>\n",
              "      <td>0.099685</td>\n",
              "    </tr>\n",
              "    <tr>\n",
              "      <th>self_reference_min_shares</th>\n",
              "      <td>0.099369</td>\n",
              "    </tr>\n",
              "    <tr>\n",
              "      <th>max_negative_polarity</th>\n",
              "      <td>0.099234</td>\n",
              "    </tr>\n",
              "    <tr>\n",
              "      <th>LDA_01</th>\n",
              "      <td>0.099189</td>\n",
              "    </tr>\n",
              "    <tr>\n",
              "      <th>n_tokens_title</th>\n",
              "      <td>0.099099</td>\n",
              "    </tr>\n",
              "    <tr>\n",
              "      <th>LDA_04</th>\n",
              "      <td>0.098514</td>\n",
              "    </tr>\n",
              "    <tr>\n",
              "      <th>n_non_stop_words</th>\n",
              "      <td>0.098333</td>\n",
              "    </tr>\n",
              "    <tr>\n",
              "      <th>kw_max_avg</th>\n",
              "      <td>0.098288</td>\n",
              "    </tr>\n",
              "    <tr>\n",
              "      <th>kw_max_min</th>\n",
              "      <td>0.098153</td>\n",
              "    </tr>\n",
              "    <tr>\n",
              "      <th>kw_avg_avg</th>\n",
              "      <td>0.098063</td>\n",
              "    </tr>\n",
              "    <tr>\n",
              "      <th>self_reference_max_shares</th>\n",
              "      <td>0.097928</td>\n",
              "    </tr>\n",
              "    <tr>\n",
              "      <th>max_positive_polarity</th>\n",
              "      <td>0.097613</td>\n",
              "    </tr>\n",
              "    <tr>\n",
              "      <th>kw_avg_max</th>\n",
              "      <td>0.097297</td>\n",
              "    </tr>\n",
              "    <tr>\n",
              "      <th>LDA_02</th>\n",
              "      <td>0.096982</td>\n",
              "    </tr>\n",
              "    <tr>\n",
              "      <th>kw_min_avg</th>\n",
              "      <td>0.096892</td>\n",
              "    </tr>\n",
              "    <tr>\n",
              "      <th>avg_positive_polarity</th>\n",
              "      <td>0.096847</td>\n",
              "    </tr>\n",
              "    <tr>\n",
              "      <th>data_channel</th>\n",
              "      <td>0.096712</td>\n",
              "    </tr>\n",
              "    <tr>\n",
              "      <th>n_tokens_content</th>\n",
              "      <td>0.096667</td>\n",
              "    </tr>\n",
              "    <tr>\n",
              "      <th>weekday</th>\n",
              "      <td>0.095180</td>\n",
              "    </tr>\n",
              "  </tbody>\n",
              "</table>\n",
              "</div><br><label><b>dtype:</b> float64</label>"
            ]
          },
          "metadata": {},
          "execution_count": 17
        }
      ],
      "source": [
        "# 결측치 비율\n",
        "train_df.isnull().mean().sort_values(ascending=False).head(46)"
      ]
    },
    {
      "cell_type": "code",
      "execution_count": null,
      "id": "5835b478",
      "metadata": {
        "id": "5835b478"
      },
      "outputs": [],
      "source": [
        "test_df.isnull().mean().sort_values(ascending=False).head(10)"
      ]
    },
    {
      "cell_type": "code",
      "execution_count": null,
      "id": "6a88e360",
      "metadata": {
        "id": "6a88e360"
      },
      "outputs": [],
      "source": [
        "# 전처리\n",
        "from sklearn.impute import SimpleImputer\n",
        "from sklearn.preprocessing import StandardScaler, OneHotEncoder\n",
        "from sklearn.compose import ColumnTransformer\n",
        "from sklearn.pipeline import Pipeline\n",
        "\n",
        "numerical_cols = [col for col in train_df.select_dtypes(include=['float64', 'int64']).columns\n",
        "                 if col not in ['id', 'shares', 'y']]\n",
        "categorical_cols = ['data_channel', 'weekday']\n",
        "\n",
        "numeric_transformer = Pipeline([\n",
        "    ('imputer', SimpleImputer(strategy='mean')),\n",
        "    ('scaler', StandardScaler())\n",
        "])\n",
        "categorical_transformer = Pipeline([\n",
        "    ('imputer', SimpleImputer(strategy='most_frequent')),\n",
        "    ('encoder', OneHotEncoder(handle_unknown='ignore'))\n",
        "])\n",
        "\n",
        "preprocessor = ColumnTransformer([\n",
        "    ('num', numeric_transformer, numerical_cols),\n",
        "    ('cat', categorical_transformer, categorical_cols)\n",
        "])\n",
        "\n",
        "X_train = train_df.drop(columns=['id', 'shares', 'y'])\n",
        "y_train = train_df['y']\n",
        "X_test = test_df.drop(columns=['id'])\n",
        "\n",
        "X_train_processed = preprocessor.fit_transform(X_train)\n",
        "X_test_processed = preprocessor.transform(X_test)\n",
        "\n",
        "X_train_processed.shape, X_test_processed.shape"
      ]
    }
  ],
  "metadata": {
    "colab": {
      "provenance": []
    },
    "language_info": {
      "name": "python"
    },
    "kernelspec": {
      "name": "python3",
      "display_name": "Python 3"
    }
  },
  "nbformat": 4,
  "nbformat_minor": 5
}